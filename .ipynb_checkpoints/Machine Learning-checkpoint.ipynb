{
 "cells": [
  {
   "cell_type": "markdown",
   "metadata": {},
   "source": [
    "## AI v/s ML\n",
    "\n",
    "![title](image/aivsml.png)\n",
    "\n",
    "source: https://medium.com/applied-innovation-exchange/the-good-the-bad-and-the-ugly-of-artificial-intelligence-and-machine-learning-3f7e663c317a"
   ]
  },
  {
   "cell_type": "markdown",
   "metadata": {},
   "source": [
    "## AI tree\n",
    "\n",
    "![title](image/AI-Graphic-NEW-768x532.jpg)\n",
    "source : https://mse238blog.stanford.edu/2017/08/jgokani/the-evolution-of-banking-ai/"
   ]
  },
  {
   "cell_type": "markdown",
   "metadata": {},
   "source": [
    "# Machine Learning\n",
    "\n",
    "Machine learning is all abount finding \n",
    "\\begin{equation*}\n",
    "f() \n",
    "\\end{equation*}\n",
    "in\n",
    "\\begin{equation*}\n",
    "y = f(X)\n",
    "\\end{equation*}\n",
    "with the given y and X \n",
    "\n",
    "or in another words, given the data , ML helps to define the relationship between the variables."
   ]
  },
  {
   "cell_type": "markdown",
   "metadata": {},
   "source": [
    "## Types of Machine Learning\n",
    "\n",
    "![title](image/_machine-learning-types-infographics.png)\n",
    "\n",
    "\n",
    "\n",
    "source:https://litslink.com/blog/an-introduction-to-machine-learning-algorithms"
   ]
  },
  {
   "cell_type": "markdown",
   "metadata": {
    "collapsed": true
   },
   "source": [
    "### Getting Started\n",
    "\n",
    "![title](image/1_LixatBxkewppAhv1Mm5H2w.jpeg)\n",
    "\n",
    "\n",
    "\n",
    "source:https://medium.com/@chris_bour/an-extended-version-of-the-scikit-learn-cheat-sheet-5f46efc6cb"
   ]
  },
  {
   "cell_type": "markdown",
   "metadata": {},
   "source": [
    "## Learning Resources\n",
    "\n",
    "### 1. https://www.coursera.org/learn/machine-learning\n",
    "### 2. https://www.youtube.com/watch?v=cKxRvEZd3Mw&list=PLOU2XLYxmsIIuiBfYad6rFYQU_jL2ryal\n",
    "### 3. https://www.youtube.com/user/Computerphile\n",
    "### 4. https://www.youtube.com/channel/UCWN3xxRkmTPmbKwht9FuE5A\n",
    "### 5. https://www.youtube.com/user/lexfridman\n",
    "### 6. https://www.youtube.com/channel/UC0e3QhIYukixgh5VVpKHH9Q\n",
    "\n",
    "\n",
    "## ML Libraries\n",
    "\n",
    "### 1. scikit-learn\n",
    "### 2. PyTorch\n",
    "### 3. Keras / Tensor Flow\n",
    "### 4. Theano"
   ]
  },
  {
   "cell_type": "code",
   "execution_count": null,
   "metadata": {},
   "outputs": [],
   "source": []
  }
 ],
 "metadata": {
  "kernelspec": {
   "display_name": "Python 3",
   "language": "python",
   "name": "python3"
  },
  "language_info": {
   "codemirror_mode": {
    "name": "ipython",
    "version": 3
   },
   "file_extension": ".py",
   "mimetype": "text/x-python",
   "name": "python",
   "nbconvert_exporter": "python",
   "pygments_lexer": "ipython3",
   "version": "3.6.8"
  }
 },
 "nbformat": 4,
 "nbformat_minor": 2
}
