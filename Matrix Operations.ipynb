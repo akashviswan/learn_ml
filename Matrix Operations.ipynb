{
 "cells": [
  {
   "cell_type": "markdown",
   "metadata": {},
   "source": [
    "# Matrices and operations on them"
   ]
  },
  {
   "cell_type": "markdown",
   "metadata": {},
   "source": [
    "NumPy is a library for the Python programming language, adding support for large, multi-dimensional arrays and matrices, along with a large collection of high-level mathematical functions to operate on these arrays."
   ]
  },
  {
   "cell_type": "code",
   "execution_count": null,
   "metadata": {
    "collapsed": true
   },
   "outputs": [],
   "source": [
    "import numpy as np"
   ]
  },
  {
   "cell_type": "markdown",
   "metadata": {},
   "source": [
    "## 1. Creating matrix"
   ]
  },
  {
   "cell_type": "code",
   "execution_count": 3,
   "metadata": {},
   "outputs": [
    {
     "name": "stdout",
     "output_type": "stream",
     "text": [
      "Маtrix:\n",
      " [[1 2 3]\n",
      " [2 5 6]\n",
      " [6 7 4]]\n"
     ]
    }
   ],
   "source": [
    "a = np.array([[1, 2, 3], [2, 5, 6], [6, 7, 4]])\n",
    "print (\"Маtrix:\\n\", a)"
   ]
  },
  {
   "cell_type": "markdown",
   "metadata": {},
   "source": [
    "The second way to create - using the built-in functions __`numpy.eye (N, M = None, ...)` __, __`numpy.zeros (shape, ...) `__, __`numpy.ones (shape , ...) `__."
   ]
  },
  {
   "cell_type": "markdown",
   "metadata": {},
   "source": [
    "### Identity Matrix\n",
    "- Square matrix\n",
    "- Ones on the main diagonal\n",
    "- Zeros everywhere else\n",
    "- Denoted by I. If a subscript is included, it is the order of the identity matrix.\n",
    "- I is the multiplicative identity for matrices\n",
    "- Any matrix times the identity matrix is the original matrix.\n",
    "- Multiplication by the identity matrix is commutative, although the order of the identity may change"
   ]
  },
  {
   "cell_type": "code",
   "execution_count": 5,
   "metadata": {},
   "outputs": [
    {
     "name": "stdout",
     "output_type": "stream",
     "text": [
      "Identity matrix:\n",
      " [[ 1.  0.  0.  0.  0.]\n",
      " [ 0.  1.  0.  0.  0.]\n",
      " [ 0.  0.  1.  0.  0.]\n",
      " [ 0.  0.  0.  1.  0.]\n",
      " [ 0.  0.  0.  0.  1.]]\n"
     ]
    }
   ],
   "source": [
    "b = np.eye(5)\n",
    "print (\"Identity matrix:\\n\", b)"
   ]
  },
  {
   "cell_type": "code",
   "execution_count": 6,
   "metadata": {},
   "outputs": [
    {
     "name": "stdout",
     "output_type": "stream",
     "text": [
      "A matrix consisting of only one:\n",
      " [[ 1.  1.  1.  1.  1.]\n",
      " [ 1.  1.  1.  1.  1.]\n",
      " [ 1.  1.  1.  1.  1.]\n",
      " [ 1.  1.  1.  1.  1.]\n",
      " [ 1.  1.  1.  1.  1.]\n",
      " [ 1.  1.  1.  1.  1.]\n",
      " [ 1.  1.  1.  1.  1.]]\n"
     ]
    }
   ],
   "source": [
    "c = np.ones((7, 5))\n",
    "print (\"A matrix consisting of only one:\\n\", c)"
   ]
  },
  {
   "cell_type": "markdown",
   "metadata": {},
   "source": [
    "__ Note: the dimension of the array is specified not by two function arguments, but by one - a tuple! __ \\ n "
   ]
  },
  {
   "cell_type": "code",
   "execution_count": 12,
   "metadata": {},
   "outputs": [
    {
     "name": "stdout",
     "output_type": "stream",
     "text": [
      "row matrix:\n",
      " [ 0  2  4  6  8 10 12 14 16 18 20 22] (12,)\n",
      "Matrix:\n",
      " [[ 0  2  4  6]\n",
      " [ 8 10 12 14]\n",
      " [16 18 20 22]] \n",
      "Matrix size: (3, 4)\n"
     ]
    }
   ],
   "source": [
    "v = np.arange(0, 24, 2)\n",
    "print (\"row matrix:\\n\", v,np.shape(v))\n",
    "d = v.reshape((3, 4))\n",
    "print (\"Matrix:\\n\", d,\"\\nMatrix size:\",np.shape(d))"
   ]
  },
  {
   "cell_type": "markdown",
   "metadata": {
    "collapsed": true
   },
   "source": [
    "## 2. Matrix Operations\n",
    "\n",
    "### 1. Matrix Addition\n"
   ]
  },
  {
   "cell_type": "code",
   "execution_count": 8,
   "metadata": {},
   "outputs": [
    {
     "name": "stdout",
     "output_type": "stream",
     "text": [
      "[[ 5.   0.5]\n",
      " [ 4.  10. ]\n",
      " [ 3.   2. ]]\n"
     ]
    }
   ],
   "source": [
    "# Define two arrays\n",
    "A = np.array([[1, 0  ], [2, 5], [3, 1]])\n",
    "B = np.array([[4, 0.5], [2, 5], [0, 1]])\n",
    "\n",
    "# Add them together\n",
    "print(A+B)"
   ]
  },
  {
   "cell_type": "markdown",
   "metadata": {},
   "source": [
    "- Order of the matrices must be the same\n",
    "- Add corresponding elements together\n",
    "- Matrix addition is commutative (A + B = B + A)\n",
    "- Matrix addition is associative (A + ( B + C ) = ( A + B ) + C)"
   ]
  },
  {
   "cell_type": "markdown",
   "metadata": {},
   "source": [
    "### 2. Scalar Multiplication"
   ]
  },
  {
   "cell_type": "code",
   "execution_count": 9,
   "metadata": {},
   "outputs": [
    {
     "name": "stdout",
     "output_type": "stream",
     "text": [
      "[[ 3  0]\n",
      " [ 6 15]\n",
      " [ 9  3]]\n",
      "[[0.25 0.  ]\n",
      " [0.5  1.25]\n",
      " [0.75 0.25]]\n"
     ]
    }
   ],
   "source": [
    "# Multiply/divide by a scalar\n",
    "print(3*A)\n",
    "print(A/4)"
   ]
  },
  {
   "cell_type": "markdown",
   "metadata": {},
   "source": [
    "### 3. Matrix Multiplication\n",
    "\n",
    "Am×n × Bn×p = Cm×p\n",
    "\n",
    "- The number of columns in the first matrix must be equal to the number of rows in the second matrix. That is, the inner dimensions must be the same.\n",
    "- The order of the product is the number of rows in the first matrix by the number of columns in the second matrix. That is, the dimensions of the product are the outer dimensions.\n",
    "- Since the number of columns in the first matrix is equal to the number of rows in the second matrix, you can pair up entries.\n",
    "- Each element in row i from the first matrix is paired up with an element in column j from the second matrix.\n",
    "- The element in row i, column j, of the product is formed by multiplying these paired elements and summing them.\n",
    "- Each element in the product is the sum of the products of the elements from row i of the first matrix and column j of the second matrix.\n",
    "- There will be n products which are summed for each element in the product.\n",
    "\n",
    "#### Matrix multiplication is not commutative\n",
    "- Multiplication of real numbers is.\n",
    "- The inner dimensions may not agree if the order of the matrices is changed.\n",
    "#### Do not simply multiply corresponding elements together\n",
    "- Since the order (dimensions) of the matrices don't have to be the same, there may not be corresponding elements to multiply together.\n",
    "- Multiply the rows of the first by the columns of the second and add.\n",
    "#### There is no matrix division\n",
    "- There is no defined process for dividing a matrix by another matrix.\n",
    "- A matrix may be divided by a scalar."
   ]
  },
  {
   "cell_type": "code",
   "execution_count": 17,
   "metadata": {},
   "outputs": [
    {
     "name": "stdout",
     "output_type": "stream",
     "text": [
      "Size of A: (3, 2)\n",
      "Size of B: (2, 3)\n",
      "A X B = \n",
      " [[ 4.   0.5  2. ]\n",
      " [ 8.   6.  29. ]\n",
      " [12.   2.5 11. ]]\n",
      "B X A =\n",
      " [[11.   4.5]\n",
      " [17.  10. ]]\n"
     ]
    }
   ],
   "source": [
    "# Define two arrays\n",
    "A = np.array([[1, 0  ], [2, 5], [3, 1]])\n",
    "print (\"Size of A:\",np.shape(A))\n",
    "\n",
    "B = np.array([[4, 0.5,2], [0, 1, 5]])\n",
    "print (\"Size of B:\",np.shape(B))\n",
    "\n",
    "# Multiply them together\n",
    "print(\"A X B = \\n\",A.dot(B))\n",
    "\n",
    "print(\"B X A =\\n\", B.dot(A))"
   ]
  },
  {
   "cell_type": "markdown",
   "metadata": {},
   "source": [
    "### 4. Matrix Transpose and Inverse\n",
    "\n",
    "\n",
    "#### 1. Transpose\n",
    "\n",
    "In linear algebra, the transpose of a matrix is an operator which flips a matrix over its diagonal, that is it switches the row and column indices of the matrix by producing another matrix denoted as Aᵀ.\n",
    "\n"
   ]
  },
  {
   "cell_type": "code",
   "execution_count": 20,
   "metadata": {},
   "outputs": [
    {
     "name": "stdout",
     "output_type": "stream",
     "text": [
      "A  = \n",
      " [[1 0]\n",
      " [2 5]\n",
      " [3 1]]\n",
      "A transpose = \n",
      " [[1 2 3]\n",
      " [0 5 1]]\n"
     ]
    }
   ],
   "source": [
    "print(\"A  = \\n\",A)\n",
    "print(\"A transpose = \\n\",np.transpose(A))"
   ]
  },
  {
   "cell_type": "markdown",
   "metadata": {},
   "source": [
    "#### 2. Inverse\n",
    "\n",
    "The inverse of A is A<sup>-1 </sup>only when:\n",
    "\n",
    "A × A<sup>-1 </sup> = A<sup>-1 </sup> × A = I\n",
    "\n",
    "Sometimes there is no inverse at all.\n"
   ]
  },
  {
   "cell_type": "code",
   "execution_count": 25,
   "metadata": {},
   "outputs": [
    {
     "name": "stdout",
     "output_type": "stream",
     "text": [
      "row matrix:\n",
      " [1 2 3 4] (4,)\n",
      "Matrix:\n",
      " [[ 0  2  4  6]\n",
      " [ 8 10 12 14]\n",
      " [16 18 20 22]] \n",
      "Matrix size: (3, 4)\n",
      "A  = \n",
      " [[1 2]\n",
      " [3 4]]\n",
      "A inverse = \n",
      " [[-2.   1. ]\n",
      " [ 1.5 -0.5]]\n"
     ]
    }
   ],
   "source": [
    "v = np.arange(1,5 )\n",
    "print (\"row matrix:\\n\", v,np.shape(v))\n",
    "A = v.reshape((2, 2))\n",
    "print (\"Matrix:\\n\", d,\"\\nMatrix size:\",np.shape(d))\n",
    "print(\"A  = \\n\",A)\n",
    "print(\"A inverse = \\n\",np.linalg.inv(A))"
   ]
  },
  {
   "cell_type": "code",
   "execution_count": null,
   "metadata": {
    "collapsed": true
   },
   "outputs": [],
   "source": []
  }
 ],
 "metadata": {
  "kernelspec": {
   "display_name": "Python 3",
   "language": "python",
   "name": "python3"
  },
  "language_info": {
   "codemirror_mode": {
    "name": "ipython",
    "version": 3
   },
   "file_extension": ".py",
   "mimetype": "text/x-python",
   "name": "python",
   "nbconvert_exporter": "python",
   "pygments_lexer": "ipython3",
   "version": "3.6.8"
  }
 },
 "nbformat": 4,
 "nbformat_minor": 2
}
